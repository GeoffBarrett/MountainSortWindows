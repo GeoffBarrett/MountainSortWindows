{
 "cells": [
  {
   "cell_type": "code",
   "execution_count": 1,
   "metadata": {},
   "outputs": [],
   "source": [
    "import os\n",
    "import sys\n",
    "notebook_path = os.path.dirname(os.path.abspath(\"__file__\"))\n",
    "# the code path is two folders up from this notebook + /code\n",
    "core_path = os.path.dirname(notebook_path)\n",
    "code_path = os.path.join(core_path, 'code')\n",
    "\n",
    "sys.path.append(core_path)\n",
    "sys.path.append(code_path)\n",
    "\n",
    "import numpy as np\n",
    "\n",
    "# import the wsl_terminal code\n",
    "from wsl_terminal import BashConfigure\n",
    "from wsl_utils import get_windows_filename, get_ubuntu_path"
   ]
  },
  {
   "cell_type": "markdown",
   "metadata": {},
   "source": [
    "## Executing WSL Commands from Python"
   ]
  },
  {
   "cell_type": "code",
   "execution_count": 2,
   "metadata": {},
   "outputs": [
    {
     "data": {
      "text/plain": [
       "0"
      ]
     },
     "execution_count": 2,
     "metadata": {},
     "output_type": "execute_result"
    }
   ],
   "source": [
    "# import the wsl_terminal code\n",
    "from wsl_terminal import BashConfigure\n",
    "\n",
    "profile = None\n",
    "title = None \n",
    "cfg = BashConfigure()\n",
    "\n",
    "commands = ['dir',  # dir commmand will tell us what files are within our current directory\n",
    "           'sleep 5'  # will sleep for 5 seconds so that we can view the terminal before it closes\n",
    "           ]\n",
    "\n",
    "# here we will run the 'dir' command and then have terminal\n",
    "# wait for 5 seconds before closing with 'sleep 5'.\n",
    "cfg.win32_wsl_open_bash(title, commands, None)"
   ]
  },
  {
   "cell_type": "markdown",
   "metadata": {},
   "source": [
    "## Saving Executed Command as a .txt file"
   ]
  },
  {
   "cell_type": "code",
   "execution_count": 3,
   "metadata": {},
   "outputs": [
    {
     "data": {
      "text/plain": [
       "0"
      ]
     },
     "execution_count": 3,
     "metadata": {},
     "output_type": "execute_result"
    }
   ],
   "source": [
    "profile = None\n",
    "title = None \n",
    "cfg = BashConfigure()\n",
    "\n",
    "windows_filename = r'D:\\test_output.txt'  # the filename that we want to save\n",
    "linux_filename = get_ubuntu_path(windows_filename)  # the linux version of the filename\n",
    "\n",
    "commands = ['dir >> %s' % linux_filename] # >> filename will save the output to the filename\n",
    "           \n",
    "# here we will run the 'dir' command and then have terminal\n",
    "# wait for 5 seconds before closing with 'sleep 5'.\n",
    "cfg.win32_wsl_open_bash(title, commands, None)"
   ]
  }
 ],
 "metadata": {
  "kernelspec": {
   "display_name": "Python 3",
   "language": "python",
   "name": "python3"
  },
  "language_info": {
   "codemirror_mode": {
    "name": "ipython",
    "version": 3
   },
   "file_extension": ".py",
   "mimetype": "text/x-python",
   "name": "python",
   "nbconvert_exporter": "python",
   "pygments_lexer": "ipython3",
   "version": "3.7.0"
  }
 },
 "nbformat": 4,
 "nbformat_minor": 2
}
